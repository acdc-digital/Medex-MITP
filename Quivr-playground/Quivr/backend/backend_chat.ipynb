{
 "cells": [
  {
   "attachments": {},
   "cell_type": "markdown",
   "metadata": {},
   "source": [
    "0. Utils"
   ]
  },
  {
   "cell_type": "code",
   "execution_count": null,
   "metadata": {},
   "outputs": [],
   "source": [
    "from logger import get_logger\n",
    "from models.chats import ChatMessage\n",
    "from models.settings import common_dependencies\n",
    "\n",
    "logger = get_logger(__name__)\n",
    "\n",
    "\n",
    "def get_chat_name_from_first_question(chat_message: ChatMessage):\n",
    "    # Step 1: Get the summary of the first question\n",
    "    # first_question_summary = summarize_as_title(chat_message.question)\n",
    "    # Step 2: Process this summary to create a chat name by selecting the first three words\n",
    "    chat_name = \" \".join(chat_message.question.split()[:3])\n",
    "\n",
    "    return chat_name"
   ]
  },
  {
   "attachments": {},
   "cell_type": "markdown",
   "metadata": {},
   "source": [
    "1. Chat "
   ]
  },
  {
   "cell_type": "code",
   "execution_count": null,
   "metadata": {},
   "outputs": [],
   "source": [
    "from dataclasses import asdict, dataclass\n",
    "\n",
    "\n",
    "@dataclass\n",
    "class Chat:\n",
    "    chat_id: str\n",
    "    user_id: str\n",
    "    creation_time: str\n",
    "    chat_name: str\n",
    "\n",
    "    def __init__(self, chat_dict: dict):\n",
    "        self.chat_id = chat_dict.get(\n",
    "            \"chat_id\"\n",
    "        )  # pyright: ignore reportPrivateUsage=none\n",
    "        self.user_id = chat_dict.get(\n",
    "            \"user_id\"\n",
    "        )  # pyright: ignore reportPrivateUsage=none\n",
    "        self.creation_time = chat_dict.get(\n",
    "            \"creation_time\"\n",
    "        )  # pyright: ignore reportPrivateUsage=none\n",
    "        self.chat_name = chat_dict.get(\n",
    "            \"chat_name\"\n",
    "        )  # pyright: ignore reportPrivateUsage=none\n",
    "\n",
    "\n",
    "@dataclass\n",
    "class ChatHistory:\n",
    "    chat_id: str\n",
    "    message_id: str\n",
    "    user_message: str\n",
    "    assistant: str\n",
    "    message_time: str\n",
    "\n",
    "    def __init__(self, chat_dict: dict):\n",
    "        self.chat_id = chat_dict.get(\n",
    "            \"chat_id\"\n",
    "        )  # pyright: ignore reportPrivateUsage=none\n",
    "        self.message_id = chat_dict.get(\n",
    "            \"message_id\"\n",
    "        )  # pyright: ignore reportPrivateUsage=none\n",
    "        self.user_message = chat_dict.get(\n",
    "            \"user_message\"\n",
    "        )  # pyright: ignore reportPrivateUsage=none\n",
    "        self.assistant = chat_dict.get(\n",
    "            \"assistant\"\n",
    "        )  # pyright: ignore reportPrivateUsage=none\n",
    "        self.message_time = chat_dict.get(\n",
    "            \"message_time\"\n",
    "        )  # pyright: ignore reportPrivateUsage=none\n",
    "\n",
    "    def to_dict(self):\n",
    "        return asdict(self)"
   ]
  },
  {
   "attachments": {},
   "cell_type": "markdown",
   "metadata": {},
   "source": [
    "2. Chats "
   ]
  },
  {
   "cell_type": "code",
   "execution_count": null,
   "metadata": {},
   "outputs": [],
   "source": [
    "from typing import List, Optional, Tuple\n",
    "from uuid import UUID\n",
    "\n",
    "from pydantic import BaseModel\n",
    "\n",
    "\n",
    "class ChatMessage(BaseModel):\n",
    "    model: str = \"gpt-3.5-turbo-16k\"\n",
    "    question: str\n",
    "    # A list of tuples where each tuple is (speaker, text)\n",
    "    history: List[Tuple[str, str]]\n",
    "    temperature: float = 0.0\n",
    "    max_tokens: int = 256\n",
    "    use_summarization: bool = False\n",
    "    chat_id: Optional[UUID] = None\n",
    "    chat_name: Optional[str] = None\n",
    "\n",
    "\n",
    "class ChatQuestion(BaseModel):\n",
    "    model: str = \"gpt-3.5-turbo-0613\"\n",
    "    question: str\n",
    "    temperature: float = 0.0\n",
    "    max_tokens: int = 256"
   ]
  },
  {
   "attachments": {},
   "cell_type": "markdown",
   "metadata": {},
   "source": [
    "3. Initialize Chat"
   ]
  },
  {
   "cell_type": "code",
   "execution_count": null,
   "metadata": {},
   "outputs": [],
   "source": [
    "from dataclasses import dataclass\n",
    "from uuid import UUID\n",
    "\n",
    "from logger import get_logger\n",
    "from models.chat import Chat\n",
    "from models.settings import common_dependencies\n",
    "\n",
    "logger = get_logger(__name__)\n",
    "\n",
    "\n",
    "@dataclass\n",
    "class CreateChatProperties:\n",
    "    name: str\n",
    "\n",
    "    def __init__(self, name: str):\n",
    "        self.name = name\n",
    "\n",
    "\n",
    "def create_chat(user_id: UUID, chat_data: CreateChatProperties) -> Chat:\n",
    "    commons = common_dependencies()\n",
    "\n",
    "    # Chat is created upon the user's first question asked\n",
    "    logger.info(f\"New chat entry in chats table for user {user_id}\")\n",
    "\n",
    "    # Insert a new row into the chats table\n",
    "    new_chat = {\n",
    "        \"user_id\": str(user_id),\n",
    "        \"chat_name\": chat_data.name,\n",
    "    }\n",
    "    insert_response = commons[\"supabase\"].table(\"chats\").insert(new_chat).execute()\n",
    "    logger.info(f\"Insert response {insert_response.data}\")\n",
    "\n",
    "    return insert_response.data[0]"
   ]
  },
  {
   "attachments": {},
   "cell_type": "markdown",
   "metadata": {},
   "source": [
    "4. Chat history part.1 "
   ]
  },
  {
   "cell_type": "code",
   "execution_count": null,
   "metadata": {},
   "outputs": [],
   "source": [
    "def format_chat_history(history) -> list[tuple[str, str]]:\n",
    "    \"\"\"Format the chat history into a list of tuples (human, ai)\"\"\"\n",
    "\n",
    "    return [(chat.user_message, chat.assistant) for chat in history]"
   ]
  },
  {
   "attachments": {},
   "cell_type": "markdown",
   "metadata": {},
   "source": [
    "5. Chat history part.2"
   ]
  },
  {
   "cell_type": "code",
   "execution_count": null,
   "metadata": {},
   "outputs": [],
   "source": [
    "from typing import List  # For type hinting\n",
    "\n",
    "from models.chat import ChatHistory\n",
    "from models.settings import common_dependencies\n",
    "\n",
    "\n",
    "def get_chat_history(chat_id: str) -> List[ChatHistory]:\n",
    "    commons = common_dependencies()\n",
    "    history: List[ChatHistory] = (\n",
    "        commons[\"supabase\"]\n",
    "        .from_(\"chat_history\")\n",
    "        .select(\"*\")\n",
    "        .filter(\"chat_id\", \"eq\", chat_id)\n",
    "        .order(\"message_time\", desc=False)  # Add the ORDER BY clause\n",
    "        .execute()\n",
    "    ).data\n",
    "    if history is None:\n",
    "        return []\n",
    "    else:\n",
    "        return [\n",
    "            ChatHistory(message)  # pyright: ignore reportPrivateUsage=none\n",
    "            for message in history\n",
    "        ]"
   ]
  },
  {
   "attachments": {},
   "cell_type": "markdown",
   "metadata": {},
   "source": [
    "6. Chat history part.3"
   ]
  },
  {
   "cell_type": "code",
   "execution_count": null,
   "metadata": {},
   "outputs": [],
   "source": [
    "from typing import List  # For type hinting\n",
    "\n",
    "from fastapi import HTTPException\n",
    "from models.chat import ChatHistory\n",
    "from models.settings import common_dependencies\n",
    "\n",
    "\n",
    "def update_chat_history(chat_id: str, user_message: str, assistant: str) -> ChatHistory:\n",
    "    commons = common_dependencies()\n",
    "    response: List[ChatHistory] = (\n",
    "        commons[\"supabase\"]\n",
    "        .table(\"chat_history\")\n",
    "        .insert(\n",
    "            {\n",
    "                \"chat_id\": str(chat_id),\n",
    "                \"user_message\": user_message,\n",
    "                \"assistant\": assistant,\n",
    "            }\n",
    "        )\n",
    "        .execute()\n",
    "    ).data\n",
    "    if len(response) == 0:\n",
    "        raise HTTPException(\n",
    "            status_code=500, detail=\"An exception occurred while updating chat history.\"\n",
    "        )\n",
    "    return ChatHistory(response[0])  # pyright: ignore reportPrivateUsage=none"
   ]
  },
  {
   "attachments": {},
   "cell_type": "markdown",
   "metadata": {},
   "source": [
    "7. Chat identification"
   ]
  },
  {
   "cell_type": "code",
   "execution_count": null,
   "metadata": {},
   "outputs": [],
   "source": [
    "from models.chat import Chat\n",
    "from models.settings import common_dependencies\n",
    "\n",
    "\n",
    "def get_chat_by_id(chat_id: str) -> Chat:\n",
    "    commons = common_dependencies()\n",
    "\n",
    "    response = (\n",
    "        commons[\"supabase\"]\n",
    "        .from_(\"chats\")\n",
    "        .select(\"*\")\n",
    "        .filter(\"chat_id\", \"eq\", chat_id)\n",
    "        .execute()\n",
    "    )\n",
    "    return Chat(response.data[0])"
   ]
  },
  {
   "attachments": {},
   "cell_type": "markdown",
   "metadata": {},
   "source": [
    "8. User chats"
   ]
  },
  {
   "cell_type": "code",
   "execution_count": null,
   "metadata": {},
   "outputs": [],
   "source": [
    "from typing import List\n",
    "\n",
    "from models.chat import Chat\n",
    "from models.settings import common_dependencies\n",
    "\n",
    "\n",
    "def get_user_chats(user_id: str) -> List[Chat]:\n",
    "    commons = common_dependencies()\n",
    "    response = (\n",
    "        commons[\"supabase\"]\n",
    "        .from_(\"chats\")\n",
    "        .select(\"chat_id,user_id,creation_time,chat_name\")\n",
    "        .filter(\"user_id\", \"eq\", user_id)\n",
    "        .execute()\n",
    "    )\n",
    "    chats = [Chat(chat_dict) for chat_dict in response.data]\n",
    "    return chats"
   ]
  },
  {
   "attachments": {},
   "cell_type": "markdown",
   "metadata": {},
   "source": [
    "9. Update chat"
   ]
  },
  {
   "cell_type": "code",
   "execution_count": null,
   "metadata": {},
   "outputs": [],
   "source": [
    "from dataclasses import dataclass\n",
    "from typing import Optional\n",
    "\n",
    "from logger import get_logger\n",
    "from models.chat import Chat\n",
    "from models.settings import common_dependencies\n",
    "\n",
    "logger = get_logger(__name__)\n",
    "\n",
    "\n",
    "@dataclass\n",
    "class ChatUpdatableProperties:\n",
    "    chat_name: Optional[str] = None\n",
    "\n",
    "    def __init__(self, chat_name: Optional[str]):\n",
    "        self.chat_name = chat_name\n",
    "\n",
    "\n",
    "def update_chat(chat_id, chat_data: ChatUpdatableProperties) -> Chat:\n",
    "    commons = common_dependencies()\n",
    "\n",
    "    if not chat_id:\n",
    "        logger.error(\"No chat_id provided\")\n",
    "        return  # pyright: ignore reportPrivateUsage=none\n",
    "\n",
    "    updates = {}\n",
    "\n",
    "    if chat_data.chat_name is not None:\n",
    "        updates[\"chat_name\"] = chat_data.chat_name\n",
    "\n",
    "    updated_chat = None\n",
    "\n",
    "    if updates:\n",
    "        updated_chat = (\n",
    "            commons[\"supabase\"]\n",
    "            .table(\"chats\")\n",
    "            .update(updates)\n",
    "            .match({\"chat_id\": chat_id})\n",
    "            .execute()\n",
    "        ).data[0]\n",
    "        logger.info(f\"Chat {chat_id} updated\")\n",
    "    else:\n",
    "        logger.info(f\"No updates to apply for chat {chat_id}\")\n",
    "    return updated_chat  # pyright: ignore reportPrivateUsage=none"
   ]
  },
  {
   "attachments": {},
   "cell_type": "markdown",
   "metadata": {},
   "source": [
    "10. Message update"
   ]
  },
  {
   "cell_type": "code",
   "execution_count": null,
   "metadata": {},
   "outputs": [],
   "source": [
    "from logger import get_logger\n",
    "from models.chat import ChatHistory\n",
    "from models.settings import common_dependencies\n",
    "\n",
    "logger = get_logger(__name__)\n",
    "\n",
    "\n",
    "def update_message_by_id(\n",
    "    message_id: str,\n",
    "    user_message: str = None,  # pyright: ignore reportPrivateUsage=none\n",
    "    assistant: str = None,  # pyright: ignore reportPrivateUsage=none\n",
    ") -> ChatHistory:\n",
    "    commons = common_dependencies()\n",
    "\n",
    "    if not message_id:\n",
    "        logger.error(\"No message_id provided\")\n",
    "        return  # pyright: ignore reportPrivateUsage=none\n",
    "\n",
    "    updates = {}\n",
    "\n",
    "    if user_message is not None:\n",
    "        updates[\"user_message\"] = user_message\n",
    "\n",
    "    if assistant is not None:\n",
    "        updates[\"assistant\"] = assistant\n",
    "\n",
    "    updated_message = None\n",
    "\n",
    "    if updates:\n",
    "        updated_message = (\n",
    "            commons[\"supabase\"]\n",
    "            .table(\"chat_history\")\n",
    "            .update(updates)\n",
    "            .match({\"message_id\": message_id})\n",
    "            .execute()\n",
    "        ).data[0]\n",
    "        logger.info(f\"Message {message_id} updated\")\n",
    "    else:\n",
    "        logger.info(f\"No updates to apply for message {message_id}\")\n",
    "    return ChatHistory(updated_message)  # pyright: ignore reportPrivateUsage=none"
   ]
  },
  {
   "attachments": {},
   "cell_type": "markdown",
   "metadata": {},
   "source": [
    "11. Logging "
   ]
  },
  {
   "cell_type": "code",
   "execution_count": null,
   "metadata": {},
   "outputs": [],
   "source": [
    "import logging\n",
    "\n",
    "\n",
    "def get_logger(logger_name, log_level=logging.INFO):\n",
    "    logger = logging.getLogger(logger_name)\n",
    "    logger.setLevel(log_level)\n",
    "    logger.propagate = False  # Prevent log propagation to avoid double logging\n",
    "\n",
    "    formatter = logging.Formatter(\"%(asctime)s [%(levelname)s] %(name)s: %(message)s\")\n",
    "\n",
    "    console_handler = logging.StreamHandler()\n",
    "    console_handler.setFormatter(formatter)\n",
    "\n",
    "    if not logger.handlers:\n",
    "        logger.addHandler(console_handler)\n",
    "\n",
    "    return logger"
   ]
  }
 ],
 "metadata": {
  "language_info": {
   "name": "python"
  },
  "orig_nbformat": 4
 },
 "nbformat": 4,
 "nbformat_minor": 2
}
