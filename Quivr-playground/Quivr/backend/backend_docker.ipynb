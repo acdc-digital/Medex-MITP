{
 "cells": [
  {
   "attachments": {},
   "cell_type": "markdown",
   "metadata": {},
   "source": [
    "1. Makefile"
   ]
  },
  {
   "cell_type": "code",
   "execution_count": null,
   "metadata": {},
   "outputs": [],
   "source": [
    "\n",
    "\n",
    "dev:\n",
    "\tdocker compose -f docker-compose.dev.yml up --build\n",
    "\n",
    "prod:\n",
    "\tdocker compose -f docker-compose.yml up --build\n",
    "\n",
    "test-type:\n",
    "\t@if command -v python3 &>/dev/null; then \\\n",
    "\t\tpython3 -m pyright; \\\n",
    "\telse \\\n",
    "\t\tpython -m pyright; \\\n",
    "\tfi"
   ]
  },
  {
   "attachments": {},
   "cell_type": "markdown",
   "metadata": {},
   "source": [
    "2. Doker container"
   ]
  },
  {
   "cell_type": "code",
   "execution_count": null,
   "metadata": {},
   "outputs": [],
   "source": [
    "FROM python:3.11-bullseye\n",
    "\n",
    "# Install GEOS library\n",
    "RUN apt-get update && apt-get install -y libgeos-dev\n",
    "\n",
    "WORKDIR /code\n",
    "\n",
    "COPY ./requirements.txt /code/requirements.txt\n",
    "\n",
    "RUN pip install --no-cache-dir -r /code/requirements.txt --timeout 100\n",
    "\n",
    "#You may need to run `chmod +x ./backend/scripts/start.sh` on your host machine if you get a permission error\n",
    "COPY ./scripts/start.sh /code/scripts/start.sh\n",
    "RUN chmod +x /code/scripts/start.sh\n",
    "\n",
    "COPY . /code/\n",
    "\n",
    "ENTRYPOINT [\"/code/scripts/start.sh\"]"
   ]
  }
 ],
 "metadata": {
  "language_info": {
   "name": "python"
  },
  "orig_nbformat": 4
 },
 "nbformat": 4,
 "nbformat_minor": 2
}
