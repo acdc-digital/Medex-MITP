{
 "cells": [
  {
   "cell_type": "code",
   "execution_count": null,
   "metadata": {},
   "outputs": [],
   "source": [
    "#!/bin/bash\n",
    "\n",
    "# Check if gpt4all is already installed\n",
    "if ! pip show gpt4all > /dev/null; then\n",
    "    if [[ $PRIVATE == \"True\" ]]; then\n",
    "        apt-get install -y liblzma-dev cmake\n",
    "\n",
    "        cd /tmp && git clone --recurse-submodules https://github.com/nomic-ai/gpt4all\n",
    "        cd gpt4all/gpt4all-backend/\n",
    "        mkdir build && cd build\n",
    "        cmake .. && cmake --build . --parallel\n",
    "        cd ../../gpt4all-bindings/python\n",
    "        pip3 install -e .\n",
    "    fi\n",
    "fi\n",
    "\n",
    "# Move to the code directory\n",
    "cd /code\n",
    "\n",
    "# Start your app\n",
    "uvicorn main:app --reload --host 0.0.0.0 --port 5050"
   ]
  }
 ],
 "metadata": {
  "language_info": {
   "name": "python"
  },
  "orig_nbformat": 4
 },
 "nbformat": 4,
 "nbformat_minor": 2
}
